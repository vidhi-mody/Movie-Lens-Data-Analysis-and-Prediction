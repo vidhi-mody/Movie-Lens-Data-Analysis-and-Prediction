{
 "cells": [
  {
   "cell_type": "code",
   "execution_count": 1,
   "metadata": {},
   "outputs": [],
   "source": [
    "import pandas as pd # pandas is a data manipulation library\n",
    "import numpy as np #provides numerical arrays and functions to manipulate the arrays efficiently\n",
    "import random\n",
    "import matplotlib.pyplot as plt # data visualization library"
   ]
  },
  {
   "cell_type": "markdown",
   "metadata": {},
   "source": [
    "#### Analyzing Movies Dataset"
   ]
  },
  {
   "cell_type": "code",
   "execution_count": 2,
   "metadata": {},
   "outputs": [],
   "source": [
    "movies= pd.read_csv('movies.csv')"
   ]
  },
  {
   "cell_type": "code",
   "execution_count": 3,
   "metadata": {
    "scrolled": true
   },
   "outputs": [
    {
     "data": {
      "text/html": [
       "<div>\n",
       "<style scoped>\n",
       "    .dataframe tbody tr th:only-of-type {\n",
       "        vertical-align: middle;\n",
       "    }\n",
       "\n",
       "    .dataframe tbody tr th {\n",
       "        vertical-align: top;\n",
       "    }\n",
       "\n",
       "    .dataframe thead th {\n",
       "        text-align: right;\n",
       "    }\n",
       "</style>\n",
       "<table border=\"1\" class=\"dataframe\">\n",
       "  <thead>\n",
       "    <tr style=\"text-align: right;\">\n",
       "      <th></th>\n",
       "      <th>movieId</th>\n",
       "      <th>title</th>\n",
       "      <th>genres</th>\n",
       "    </tr>\n",
       "  </thead>\n",
       "  <tbody>\n",
       "    <tr>\n",
       "      <th>0</th>\n",
       "      <td>1</td>\n",
       "      <td>Toy Story (1995)</td>\n",
       "      <td>Adventure|Animation|Children|Comedy|Fantasy</td>\n",
       "    </tr>\n",
       "    <tr>\n",
       "      <th>1</th>\n",
       "      <td>2</td>\n",
       "      <td>Jumanji (1995)</td>\n",
       "      <td>Adventure|Children|Fantasy</td>\n",
       "    </tr>\n",
       "    <tr>\n",
       "      <th>2</th>\n",
       "      <td>3</td>\n",
       "      <td>Grumpier Old Men (1995)</td>\n",
       "      <td>Comedy|Romance</td>\n",
       "    </tr>\n",
       "    <tr>\n",
       "      <th>3</th>\n",
       "      <td>4</td>\n",
       "      <td>Waiting to Exhale (1995)</td>\n",
       "      <td>Comedy|Drama|Romance</td>\n",
       "    </tr>\n",
       "    <tr>\n",
       "      <th>4</th>\n",
       "      <td>5</td>\n",
       "      <td>Father of the Bride Part II (1995)</td>\n",
       "      <td>Comedy</td>\n",
       "    </tr>\n",
       "  </tbody>\n",
       "</table>\n",
       "</div>"
      ],
      "text/plain": [
       "   movieId                               title  \\\n",
       "0        1                    Toy Story (1995)   \n",
       "1        2                      Jumanji (1995)   \n",
       "2        3             Grumpier Old Men (1995)   \n",
       "3        4            Waiting to Exhale (1995)   \n",
       "4        5  Father of the Bride Part II (1995)   \n",
       "\n",
       "                                        genres  \n",
       "0  Adventure|Animation|Children|Comedy|Fantasy  \n",
       "1                   Adventure|Children|Fantasy  \n",
       "2                               Comedy|Romance  \n",
       "3                         Comedy|Drama|Romance  \n",
       "4                                       Comedy  "
      ]
     },
     "execution_count": 3,
     "metadata": {},
     "output_type": "execute_result"
    }
   ],
   "source": [
    "movies.head()"
   ]
  },
  {
   "cell_type": "code",
   "execution_count": 4,
   "metadata": {},
   "outputs": [
    {
     "name": "stdout",
     "output_type": "stream",
     "text": [
      "(27278, 3)\n",
      "27278\n"
     ]
    }
   ],
   "source": [
    "#Verifying if all movies are unique\n",
    "unique_movies = movies['movieId'].unique().tolist()\n",
    "print(movies.shape)\n",
    "print(len(unique_movies))"
   ]
  },
  {
   "cell_type": "markdown",
   "metadata": {},
   "source": [
    "#### Analyzing ratings dataset"
   ]
  },
  {
   "cell_type": "code",
   "execution_count": 5,
   "metadata": {},
   "outputs": [],
   "source": [
    "ratings=pd.read_csv('ratings.csv',sep=',')"
   ]
  },
  {
   "cell_type": "code",
   "execution_count": 6,
   "metadata": {},
   "outputs": [
    {
     "data": {
      "text/plain": [
       "0.5"
      ]
     },
     "execution_count": 6,
     "metadata": {},
     "output_type": "execute_result"
    }
   ],
   "source": [
    "ratings['rating'].min() "
   ]
  },
  {
   "cell_type": "code",
   "execution_count": 7,
   "metadata": {},
   "outputs": [
    {
     "data": {
      "text/plain": [
       "5.0"
      ]
     },
     "execution_count": 7,
     "metadata": {},
     "output_type": "execute_result"
    }
   ],
   "source": [
    "ratings['rating'].max()"
   ]
  },
  {
   "cell_type": "markdown",
   "metadata": {},
   "source": [
    "#### Analyzing tags dataset"
   ]
  },
  {
   "cell_type": "code",
   "execution_count": 8,
   "metadata": {},
   "outputs": [],
   "source": [
    "tags=pd.read_csv('tags.csv',sep=',')"
   ]
  },
  {
   "cell_type": "code",
   "execution_count": 9,
   "metadata": {},
   "outputs": [
    {
     "data": {
      "text/plain": [
       "38644"
      ]
     },
     "execution_count": 9,
     "metadata": {},
     "output_type": "execute_result"
    }
   ],
   "source": [
    "unique_tags=tags['tag'].unique().tolist()\n",
    "len(unique_tags)"
   ]
  },
  {
   "cell_type": "markdown",
   "metadata": {},
   "source": [
    "#### Data Cleaning"
   ]
  },
  {
   "cell_type": "code",
   "execution_count": 10,
   "metadata": {},
   "outputs": [
    {
     "data": {
      "text/plain": [
       "movieId    0\n",
       "title      0\n",
       "genres     0\n",
       "dtype: int64"
      ]
     },
     "execution_count": 10,
     "metadata": {},
     "output_type": "execute_result"
    }
   ],
   "source": [
    "movies.isnull().sum()"
   ]
  },
  {
   "cell_type": "code",
   "execution_count": 11,
   "metadata": {},
   "outputs": [
    {
     "data": {
      "text/plain": [
       "userId       0\n",
       "movieId      0\n",
       "rating       0\n",
       "timestamp    0\n",
       "dtype: int64"
      ]
     },
     "execution_count": 11,
     "metadata": {},
     "output_type": "execute_result"
    }
   ],
   "source": [
    "ratings.isnull().sum()"
   ]
  },
  {
   "cell_type": "code",
   "execution_count": 12,
   "metadata": {},
   "outputs": [
    {
     "data": {
      "text/plain": [
       "userId        0\n",
       "movieId       0\n",
       "tag          16\n",
       "timestamp     0\n",
       "dtype: int64"
      ]
     },
     "execution_count": 12,
     "metadata": {},
     "output_type": "execute_result"
    }
   ],
   "source": [
    "tags.isnull().sum()"
   ]
  },
  {
   "cell_type": "code",
   "execution_count": 13,
   "metadata": {},
   "outputs": [],
   "source": [
    "tags=tags.dropna()"
   ]
  },
  {
   "cell_type": "code",
   "execution_count": 14,
   "metadata": {},
   "outputs": [
    {
     "data": {
      "text/plain": [
       "38643"
      ]
     },
     "execution_count": 14,
     "metadata": {},
     "output_type": "execute_result"
    }
   ],
   "source": [
    "unique_tags=tags['tag'].unique().tolist()\n",
    "len(unique_tags)"
   ]
  },
  {
   "cell_type": "code",
   "execution_count": 15,
   "metadata": {},
   "outputs": [
    {
     "data": {
      "text/html": [
       "<div>\n",
       "<style scoped>\n",
       "    .dataframe tbody tr th:only-of-type {\n",
       "        vertical-align: middle;\n",
       "    }\n",
       "\n",
       "    .dataframe tbody tr th {\n",
       "        vertical-align: top;\n",
       "    }\n",
       "\n",
       "    .dataframe thead th {\n",
       "        text-align: right;\n",
       "    }\n",
       "</style>\n",
       "<table border=\"1\" class=\"dataframe\">\n",
       "  <thead>\n",
       "    <tr style=\"text-align: right;\">\n",
       "      <th></th>\n",
       "      <th>count</th>\n",
       "      <th>mean</th>\n",
       "      <th>std</th>\n",
       "      <th>min</th>\n",
       "      <th>25%</th>\n",
       "      <th>50%</th>\n",
       "      <th>75%</th>\n",
       "      <th>max</th>\n",
       "    </tr>\n",
       "  </thead>\n",
       "  <tbody>\n",
       "    <tr>\n",
       "      <th>userId</th>\n",
       "      <td>1048575.0</td>\n",
       "      <td>3.527086e+03</td>\n",
       "      <td>2.018424e+03</td>\n",
       "      <td>1.0</td>\n",
       "      <td>1813.0</td>\n",
       "      <td>3.540000e+03</td>\n",
       "      <td>5.233000e+03</td>\n",
       "      <td>7.120000e+03</td>\n",
       "    </tr>\n",
       "    <tr>\n",
       "      <th>movieId</th>\n",
       "      <td>1048575.0</td>\n",
       "      <td>8.648988e+03</td>\n",
       "      <td>1.910014e+04</td>\n",
       "      <td>1.0</td>\n",
       "      <td>903.0</td>\n",
       "      <td>2.143000e+03</td>\n",
       "      <td>4.641000e+03</td>\n",
       "      <td>1.306420e+05</td>\n",
       "    </tr>\n",
       "    <tr>\n",
       "      <th>rating</th>\n",
       "      <td>1048575.0</td>\n",
       "      <td>3.529272e+00</td>\n",
       "      <td>1.051919e+00</td>\n",
       "      <td>0.5</td>\n",
       "      <td>3.0</td>\n",
       "      <td>4.000000e+00</td>\n",
       "      <td>4.000000e+00</td>\n",
       "      <td>5.000000e+00</td>\n",
       "    </tr>\n",
       "    <tr>\n",
       "      <th>timestamp</th>\n",
       "      <td>1048575.0</td>\n",
       "      <td>1.096036e+09</td>\n",
       "      <td>1.594899e+08</td>\n",
       "      <td>825499934.0</td>\n",
       "      <td>965838177.0</td>\n",
       "      <td>1.099263e+09</td>\n",
       "      <td>1.217407e+09</td>\n",
       "      <td>1.427764e+09</td>\n",
       "    </tr>\n",
       "  </tbody>\n",
       "</table>\n",
       "</div>"
      ],
      "text/plain": [
       "               count          mean           std          min          25%  \\\n",
       "userId     1048575.0  3.527086e+03  2.018424e+03          1.0       1813.0   \n",
       "movieId    1048575.0  8.648988e+03  1.910014e+04          1.0        903.0   \n",
       "rating     1048575.0  3.529272e+00  1.051919e+00          0.5          3.0   \n",
       "timestamp  1048575.0  1.096036e+09  1.594899e+08  825499934.0  965838177.0   \n",
       "\n",
       "                    50%           75%           max  \n",
       "userId     3.540000e+03  5.233000e+03  7.120000e+03  \n",
       "movieId    2.143000e+03  4.641000e+03  1.306420e+05  \n",
       "rating     4.000000e+00  4.000000e+00  5.000000e+00  \n",
       "timestamp  1.099263e+09  1.217407e+09  1.427764e+09  "
      ]
     },
     "execution_count": 15,
     "metadata": {},
     "output_type": "execute_result"
    }
   ],
   "source": [
    "ratings.describe().transpose()"
   ]
  },
  {
   "cell_type": "code",
   "execution_count": 16,
   "metadata": {},
   "outputs": [
    {
     "data": {
      "text/html": [
       "<div>\n",
       "<style scoped>\n",
       "    .dataframe tbody tr th:only-of-type {\n",
       "        vertical-align: middle;\n",
       "    }\n",
       "\n",
       "    .dataframe tbody tr th {\n",
       "        vertical-align: top;\n",
       "    }\n",
       "\n",
       "    .dataframe thead th {\n",
       "        text-align: right;\n",
       "    }\n",
       "</style>\n",
       "<table border=\"1\" class=\"dataframe\">\n",
       "  <thead>\n",
       "    <tr style=\"text-align: right;\">\n",
       "      <th></th>\n",
       "      <th>count</th>\n",
       "      <th>mean</th>\n",
       "      <th>std</th>\n",
       "      <th>min</th>\n",
       "      <th>25%</th>\n",
       "      <th>50%</th>\n",
       "      <th>75%</th>\n",
       "      <th>max</th>\n",
       "    </tr>\n",
       "  </thead>\n",
       "  <tbody>\n",
       "    <tr>\n",
       "      <th>userId</th>\n",
       "      <td>465548.0</td>\n",
       "      <td>6.871068e+04</td>\n",
       "      <td>4.187741e+04</td>\n",
       "      <td>1.800000e+01</td>\n",
       "      <td>2.878000e+04</td>\n",
       "      <td>7.020100e+04</td>\n",
       "      <td>1.072560e+05</td>\n",
       "      <td>1.384720e+05</td>\n",
       "    </tr>\n",
       "    <tr>\n",
       "      <th>movieId</th>\n",
       "      <td>465548.0</td>\n",
       "      <td>3.262839e+04</td>\n",
       "      <td>3.608056e+04</td>\n",
       "      <td>1.000000e+00</td>\n",
       "      <td>2.571000e+03</td>\n",
       "      <td>7.373000e+03</td>\n",
       "      <td>6.224500e+04</td>\n",
       "      <td>1.312580e+05</td>\n",
       "    </tr>\n",
       "    <tr>\n",
       "      <th>timestamp</th>\n",
       "      <td>465548.0</td>\n",
       "      <td>1.298714e+09</td>\n",
       "      <td>7.920819e+07</td>\n",
       "      <td>1.135429e+09</td>\n",
       "      <td>1.245008e+09</td>\n",
       "      <td>1.302297e+09</td>\n",
       "      <td>1.366218e+09</td>\n",
       "      <td>1.427771e+09</td>\n",
       "    </tr>\n",
       "  </tbody>\n",
       "</table>\n",
       "</div>"
      ],
      "text/plain": [
       "              count          mean           std           min           25%  \\\n",
       "userId     465548.0  6.871068e+04  4.187741e+04  1.800000e+01  2.878000e+04   \n",
       "movieId    465548.0  3.262839e+04  3.608056e+04  1.000000e+00  2.571000e+03   \n",
       "timestamp  465548.0  1.298714e+09  7.920819e+07  1.135429e+09  1.245008e+09   \n",
       "\n",
       "                    50%           75%           max  \n",
       "userId     7.020100e+04  1.072560e+05  1.384720e+05  \n",
       "movieId    7.373000e+03  6.224500e+04  1.312580e+05  \n",
       "timestamp  1.302297e+09  1.366218e+09  1.427771e+09  "
      ]
     },
     "execution_count": 16,
     "metadata": {},
     "output_type": "execute_result"
    }
   ],
   "source": [
    "tags.describe().transpose()"
   ]
  },
  {
   "cell_type": "code",
   "execution_count": 17,
   "metadata": {},
   "outputs": [],
   "source": [
    "del ratings['timestamp']\n",
    "del tags['timestamp']"
   ]
  },
  {
   "cell_type": "markdown",
   "metadata": {},
   "source": [
    "#### Data Analysis"
   ]
  },
  {
   "cell_type": "code",
   "execution_count": 18,
   "metadata": {},
   "outputs": [],
   "source": [
    "movies['year'] =movies['title'].str.extract('.*\\((.*)\\).*',expand = False)"
   ]
  },
  {
   "cell_type": "code",
   "execution_count": 19,
   "metadata": {},
   "outputs": [
    {
     "data": {
      "text/html": [
       "<div>\n",
       "<style scoped>\n",
       "    .dataframe tbody tr th:only-of-type {\n",
       "        vertical-align: middle;\n",
       "    }\n",
       "\n",
       "    .dataframe tbody tr th {\n",
       "        vertical-align: top;\n",
       "    }\n",
       "\n",
       "    .dataframe thead th {\n",
       "        text-align: right;\n",
       "    }\n",
       "</style>\n",
       "<table border=\"1\" class=\"dataframe\">\n",
       "  <thead>\n",
       "    <tr style=\"text-align: right;\">\n",
       "      <th></th>\n",
       "      <th>movieId</th>\n",
       "      <th>title</th>\n",
       "      <th>genres</th>\n",
       "      <th>year</th>\n",
       "    </tr>\n",
       "  </thead>\n",
       "  <tbody>\n",
       "    <tr>\n",
       "      <th>0</th>\n",
       "      <td>1</td>\n",
       "      <td>Toy Story (1995)</td>\n",
       "      <td>Adventure|Animation|Children|Comedy|Fantasy</td>\n",
       "      <td>1995</td>\n",
       "    </tr>\n",
       "    <tr>\n",
       "      <th>1</th>\n",
       "      <td>2</td>\n",
       "      <td>Jumanji (1995)</td>\n",
       "      <td>Adventure|Children|Fantasy</td>\n",
       "      <td>1995</td>\n",
       "    </tr>\n",
       "    <tr>\n",
       "      <th>2</th>\n",
       "      <td>3</td>\n",
       "      <td>Grumpier Old Men (1995)</td>\n",
       "      <td>Comedy|Romance</td>\n",
       "      <td>1995</td>\n",
       "    </tr>\n",
       "    <tr>\n",
       "      <th>3</th>\n",
       "      <td>4</td>\n",
       "      <td>Waiting to Exhale (1995)</td>\n",
       "      <td>Comedy|Drama|Romance</td>\n",
       "      <td>1995</td>\n",
       "    </tr>\n",
       "    <tr>\n",
       "      <th>4</th>\n",
       "      <td>5</td>\n",
       "      <td>Father of the Bride Part II (1995)</td>\n",
       "      <td>Comedy</td>\n",
       "      <td>1995</td>\n",
       "    </tr>\n",
       "  </tbody>\n",
       "</table>\n",
       "</div>"
      ],
      "text/plain": [
       "   movieId                               title  \\\n",
       "0        1                    Toy Story (1995)   \n",
       "1        2                      Jumanji (1995)   \n",
       "2        3             Grumpier Old Men (1995)   \n",
       "3        4            Waiting to Exhale (1995)   \n",
       "4        5  Father of the Bride Part II (1995)   \n",
       "\n",
       "                                        genres  year  \n",
       "0  Adventure|Animation|Children|Comedy|Fantasy  1995  \n",
       "1                   Adventure|Children|Fantasy  1995  \n",
       "2                               Comedy|Romance  1995  \n",
       "3                         Comedy|Drama|Romance  1995  \n",
       "4                                       Comedy  1995  "
      ]
     },
     "execution_count": 19,
     "metadata": {},
     "output_type": "execute_result"
    }
   ],
   "source": [
    "movies.head()"
   ]
  },
  {
   "cell_type": "code",
   "execution_count": 20,
   "metadata": {},
   "outputs": [],
   "source": [
    "movies['title']=movies['title'].replace(r'\\(.*', '', regex=True)"
   ]
  },
  {
   "cell_type": "code",
   "execution_count": 21,
   "metadata": {},
   "outputs": [
    {
     "data": {
      "text/html": [
       "<div>\n",
       "<style scoped>\n",
       "    .dataframe tbody tr th:only-of-type {\n",
       "        vertical-align: middle;\n",
       "    }\n",
       "\n",
       "    .dataframe tbody tr th {\n",
       "        vertical-align: top;\n",
       "    }\n",
       "\n",
       "    .dataframe thead th {\n",
       "        text-align: right;\n",
       "    }\n",
       "</style>\n",
       "<table border=\"1\" class=\"dataframe\">\n",
       "  <thead>\n",
       "    <tr style=\"text-align: right;\">\n",
       "      <th></th>\n",
       "      <th>movieId</th>\n",
       "      <th>title</th>\n",
       "      <th>genres</th>\n",
       "      <th>year</th>\n",
       "    </tr>\n",
       "  </thead>\n",
       "  <tbody>\n",
       "    <tr>\n",
       "      <th>0</th>\n",
       "      <td>1</td>\n",
       "      <td>Toy Story</td>\n",
       "      <td>Adventure|Animation|Children|Comedy|Fantasy</td>\n",
       "      <td>1995</td>\n",
       "    </tr>\n",
       "    <tr>\n",
       "      <th>1</th>\n",
       "      <td>2</td>\n",
       "      <td>Jumanji</td>\n",
       "      <td>Adventure|Children|Fantasy</td>\n",
       "      <td>1995</td>\n",
       "    </tr>\n",
       "    <tr>\n",
       "      <th>2</th>\n",
       "      <td>3</td>\n",
       "      <td>Grumpier Old Men</td>\n",
       "      <td>Comedy|Romance</td>\n",
       "      <td>1995</td>\n",
       "    </tr>\n",
       "    <tr>\n",
       "      <th>3</th>\n",
       "      <td>4</td>\n",
       "      <td>Waiting to Exhale</td>\n",
       "      <td>Comedy|Drama|Romance</td>\n",
       "      <td>1995</td>\n",
       "    </tr>\n",
       "    <tr>\n",
       "      <th>4</th>\n",
       "      <td>5</td>\n",
       "      <td>Father of the Bride Part II</td>\n",
       "      <td>Comedy</td>\n",
       "      <td>1995</td>\n",
       "    </tr>\n",
       "  </tbody>\n",
       "</table>\n",
       "</div>"
      ],
      "text/plain": [
       "   movieId                         title  \\\n",
       "0        1                    Toy Story    \n",
       "1        2                      Jumanji    \n",
       "2        3             Grumpier Old Men    \n",
       "3        4            Waiting to Exhale    \n",
       "4        5  Father of the Bride Part II    \n",
       "\n",
       "                                        genres  year  \n",
       "0  Adventure|Animation|Children|Comedy|Fantasy  1995  \n",
       "1                   Adventure|Children|Fantasy  1995  \n",
       "2                               Comedy|Romance  1995  \n",
       "3                         Comedy|Drama|Romance  1995  \n",
       "4                                       Comedy  1995  "
      ]
     },
     "execution_count": 21,
     "metadata": {},
     "output_type": "execute_result"
    }
   ],
   "source": [
    "movies.head()"
   ]
  },
  {
   "cell_type": "code",
   "execution_count": 26,
   "metadata": {},
   "outputs": [
    {
     "name": "stdout",
     "output_type": "stream",
     "text": [
      "['1995', '1994', '1996', '1976', '1992', '1988', '1967', '1993', '1964', '1977', '1965', '1982', '1985', '1990', '1991', '1989', '1937', '1940', '1969', '1981', '1973', '1970', '1960', '1955', '1959', '1968', '1980', '1975', '1986', '1948', '1943', '1950', '1946', '1987', '1997', '1974', '1956', '1958', '1949', '1972', '1998', '1933', '1952', '1951', '1957', '1961', '1954', '1934', '1944', '1963', '1942', '1941', '1953', '1939', '1947', '1945', '1938', '1935', '1936', '1926', '1932', '1979', '1971', '1978', '1966', '1962', '1983', '1984', '1931', '1922', '1999', '1927', '1929', '1930', '1928', '1925', '1914', '2000', '1919', '1923', '1920', '1918', '1921', '2001', '1924', '2002', '2003', '1915', '2004', '1916', '1917', '2005', '2006', '1902', nan, '1903', '2007', '2008', '2009', '1912', '2010', 'Das Millionenspiel', '1913', '2011', '1898', '1899', 'Bicicleta, cullera, poma', '1894', '2012', '1909', '1910', '1901', '1893', '2013', '1896', '1983)', '2014', '2009– ', '2007-', '1975-1979', '1895', '2015', '1900', '1905', '1891']\n"
     ]
    }
   ],
   "source": [
    "unique_years=movies['year'].unique().tolist()\n",
    "print(unique_years)"
   ]
  },
  {
   "cell_type": "code",
   "execution_count": 36,
   "metadata": {},
   "outputs": [
    {
     "name": "stdout",
     "output_type": "stream",
     "text": [
      "       movieId                title                        genres  \\\n",
      "15646    79607  Millions Game, The   Action|Drama|Sci-Fi|Thriller   \n",
      "\n",
      "                     year  \n",
      "15646  Das Millionenspiel  \n"
     ]
    }
   ],
   "source": [
    "print(movies.loc[movies['year'] == 'Das Millionenspiel'])"
   ]
  },
  {
   "cell_type": "code",
   "execution_count": 37,
   "metadata": {},
   "outputs": [
    {
     "name": "stdout",
     "output_type": "stream",
     "text": [
      "       movieId                   title       genres                      year\n",
      "17341    87442  Bicycle, Spoon, Apple   Documentary  Bicicleta, cullera, poma\n"
     ]
    }
   ],
   "source": [
    "print(movies.loc[movies['year'] == 'Bicicleta, cullera, poma'])"
   ]
  },
  {
   "cell_type": "code",
   "execution_count": 38,
   "metadata": {},
   "outputs": [
    {
     "name": "stdout",
     "output_type": "stream",
     "text": [
      "       movieId           title  genres       year\n",
      "22679   108583  Fawlty Towers   Comedy  1975-1979\n"
     ]
    }
   ],
   "source": [
    "print(movies.loc[movies['year'] == '1975-1979'])"
   ]
  },
  {
   "cell_type": "code",
   "execution_count": 32,
   "metadata": {},
   "outputs": [],
   "source": [
    "movies['year']=movies['year'].replace(r'\\).*', '', regex=True)"
   ]
  },
  {
   "cell_type": "code",
   "execution_count": 39,
   "metadata": {},
   "outputs": [
    {
     "data": {
      "text/html": [
       "<div>\n",
       "<style scoped>\n",
       "    .dataframe tbody tr th:only-of-type {\n",
       "        vertical-align: middle;\n",
       "    }\n",
       "\n",
       "    .dataframe tbody tr th {\n",
       "        vertical-align: top;\n",
       "    }\n",
       "\n",
       "    .dataframe thead th {\n",
       "        text-align: right;\n",
       "    }\n",
       "</style>\n",
       "<table border=\"1\" class=\"dataframe\">\n",
       "  <thead>\n",
       "    <tr style=\"text-align: right;\">\n",
       "      <th></th>\n",
       "      <th>movieId</th>\n",
       "      <th>title</th>\n",
       "      <th>genres</th>\n",
       "      <th>year</th>\n",
       "    </tr>\n",
       "  </thead>\n",
       "  <tbody>\n",
       "    <tr>\n",
       "      <th>0</th>\n",
       "      <td>1</td>\n",
       "      <td>Toy Story</td>\n",
       "      <td>Adventure|Animation|Children|Comedy|Fantasy</td>\n",
       "      <td>1995</td>\n",
       "    </tr>\n",
       "    <tr>\n",
       "      <th>1</th>\n",
       "      <td>2</td>\n",
       "      <td>Jumanji</td>\n",
       "      <td>Adventure|Children|Fantasy</td>\n",
       "      <td>1995</td>\n",
       "    </tr>\n",
       "    <tr>\n",
       "      <th>2</th>\n",
       "      <td>3</td>\n",
       "      <td>Grumpier Old Men</td>\n",
       "      <td>Comedy|Romance</td>\n",
       "      <td>1995</td>\n",
       "    </tr>\n",
       "    <tr>\n",
       "      <th>3</th>\n",
       "      <td>4</td>\n",
       "      <td>Waiting to Exhale</td>\n",
       "      <td>Comedy|Drama|Romance</td>\n",
       "      <td>1995</td>\n",
       "    </tr>\n",
       "    <tr>\n",
       "      <th>4</th>\n",
       "      <td>5</td>\n",
       "      <td>Father of the Bride Part II</td>\n",
       "      <td>Comedy</td>\n",
       "      <td>1995</td>\n",
       "    </tr>\n",
       "  </tbody>\n",
       "</table>\n",
       "</div>"
      ],
      "text/plain": [
       "   movieId                         title  \\\n",
       "0        1                    Toy Story    \n",
       "1        2                      Jumanji    \n",
       "2        3             Grumpier Old Men    \n",
       "3        4            Waiting to Exhale    \n",
       "4        5  Father of the Bride Part II    \n",
       "\n",
       "                                        genres  year  \n",
       "0  Adventure|Animation|Children|Comedy|Fantasy  1995  \n",
       "1                   Adventure|Children|Fantasy  1995  \n",
       "2                               Comedy|Romance  1995  \n",
       "3                         Comedy|Drama|Romance  1995  \n",
       "4                                       Comedy  1995  "
      ]
     },
     "execution_count": 39,
     "metadata": {},
     "output_type": "execute_result"
    }
   ],
   "source": [
    "movies=movies.drop(movies.index[[15646, 17341,22679]])\n",
    "movies.head()"
   ]
  },
  {
   "cell_type": "code",
   "execution_count": 44,
   "metadata": {},
   "outputs": [],
   "source": [
    "movies['year']=movies['year'].replace(r'\\–.*', '', regex=True)"
   ]
  },
  {
   "cell_type": "code",
   "execution_count": 45,
   "metadata": {},
   "outputs": [
    {
     "name": "stdout",
     "output_type": "stream",
     "text": [
      "['1995', '1994', '1996', '1976', '1992', '1988', '1967', '1993', '1964', '1977', '1965', '1982', '1985', '1990', '1991', '1989', '1937', '1940', '1969', '1981', '1973', '1970', '1960', '1955', '1959', '1968', '1980', '1975', '1986', '1948', '1943', '1950', '1946', '1987', '1997', '1974', '1956', '1958', '1949', '1972', '1998', '1933', '1952', '1951', '1957', '1961', '1954', '1934', '1944', '1963', '1942', '1941', '1953', '1939', '1947', '1945', '1938', '1935', '1936', '1926', '1932', '1979', '1971', '1978', '1966', '1962', '1983', '1984', '1931', '1922', '1999', '1927', '1929', '1930', '1928', '1925', '1914', '2000', '1919', '1923', '1920', '1918', '1921', '2001', '1924', '2002', '2003', '1915', '2004', '1916', '1917', '2005', '2006', '1902', nan, '1903', '2007', '2008', '2009', '1912', '2010', '1913', '2011', '1898', '1899', '1894', '2012', '1909', '1910', '1901', '1893', '2013', '1896', '2014', '1895', '2015', '1900', '1905', '1891']\n"
     ]
    }
   ],
   "source": [
    "unique_years=movies['year'].unique().tolist()\n",
    "print(unique_years)"
   ]
  },
  {
   "cell_type": "code",
   "execution_count": 46,
   "metadata": {},
   "outputs": [
    {
     "data": {
      "text/plain": [
       "movieId     0\n",
       "title       0\n",
       "genres      0\n",
       "year       17\n",
       "dtype: int64"
      ]
     },
     "execution_count": 46,
     "metadata": {},
     "output_type": "execute_result"
    }
   ],
   "source": [
    "movies.isnull().sum()"
   ]
  },
  {
   "cell_type": "code",
   "execution_count": 48,
   "metadata": {},
   "outputs": [
    {
     "data": {
      "text/plain": [
       "movieId    0\n",
       "title      0\n",
       "genres     0\n",
       "year       0\n",
       "dtype: int64"
      ]
     },
     "execution_count": 48,
     "metadata": {},
     "output_type": "execute_result"
    }
   ],
   "source": [
    "movies = movies.dropna()\n",
    "movies.isnull().sum()"
   ]
  },
  {
   "cell_type": "code",
   "execution_count": 50,
   "metadata": {},
   "outputs": [],
   "source": [
    "#Converting the year column from str to int\n",
    "movies['year'] = pd.to_numeric(movies['year'])"
   ]
  },
  {
   "cell_type": "code",
   "execution_count": 51,
   "metadata": {},
   "outputs": [
    {
     "data": {
      "text/plain": [
       "1891"
      ]
     },
     "execution_count": 51,
     "metadata": {},
     "output_type": "execute_result"
    }
   ],
   "source": [
    "movies['year'].min()"
   ]
  },
  {
   "cell_type": "code",
   "execution_count": 52,
   "metadata": {},
   "outputs": [
    {
     "data": {
      "text/plain": [
       "2015"
      ]
     },
     "execution_count": 52,
     "metadata": {},
     "output_type": "execute_result"
    }
   ],
   "source": [
    "movies['year'].max()"
   ]
  },
  {
   "cell_type": "code",
   "execution_count": 68,
   "metadata": {},
   "outputs": [
    {
     "data": {
      "image/png": "[encoded data removed]",
      "text/plain": [
       "<Figure size 432x288 with 1 Axes>"
      ]
     },
     "metadata": {
      "needs_background": "light"
     },
     "output_type": "display_data"
    }
   ],
   "source": [
    "years = movies['year'].tolist()\n",
    "# setting the ranges and no. of intervals \n",
    "range = (1890, 2015) \n",
    "bins = 10  \n",
    "  \n",
    "# plotting a histogram \n",
    "plt.hist(years, bins, range, color = 'purple', \n",
    "        histtype = 'bar', rwidth = 0.8) \n",
    "  \n",
    "# x-axis label \n",
    "plt.xlabel('Year of release') \n",
    "# frequency label \n",
    "plt.ylabel('No. of movies') \n",
    "# plot title \n",
    "plt.title('Movie Distribution over the years') \n",
    "  \n",
    "# function to show the plot \n",
    "plt.show() "
   ]
  },
  {
   "cell_type": "code",
   "execution_count": 101,
   "metadata": {},
   "outputs": [
    {
     "data": {
      "text/html": [
       "<div>\n",
       "<style scoped>\n",
       "    .dataframe tbody tr th:only-of-type {\n",
       "        vertical-align: middle;\n",
       "    }\n",
       "\n",
       "    .dataframe tbody tr th {\n",
       "        vertical-align: top;\n",
       "    }\n",
       "\n",
       "    .dataframe thead th {\n",
       "        text-align: right;\n",
       "    }\n",
       "</style>\n",
       "<table border=\"1\" class=\"dataframe\">\n",
       "  <thead>\n",
       "    <tr style=\"text-align: right;\">\n",
       "      <th></th>\n",
       "      <th>movieId</th>\n",
       "      <th>title</th>\n",
       "      <th>genres</th>\n",
       "      <th>year</th>\n",
       "      <th>userId</th>\n",
       "      <th>rating</th>\n",
       "    </tr>\n",
       "  </thead>\n",
       "  <tbody>\n",
       "    <tr>\n",
       "      <th>1048550</th>\n",
       "      <td>129428</td>\n",
       "      <td>The Second Best Exotic Marigold Hotel</td>\n",
       "      <td>Comedy|Drama</td>\n",
       "      <td>2015</td>\n",
       "      <td>3289</td>\n",
       "      <td>3.5</td>\n",
       "    </tr>\n",
       "    <tr>\n",
       "      <th>1048551</th>\n",
       "      <td>129428</td>\n",
       "      <td>The Second Best Exotic Marigold Hotel</td>\n",
       "      <td>Comedy|Drama</td>\n",
       "      <td>2015</td>\n",
       "      <td>5832</td>\n",
       "      <td>3.0</td>\n",
       "    </tr>\n",
       "    <tr>\n",
       "      <th>1048552</th>\n",
       "      <td>129707</td>\n",
       "      <td>The Lazarus Effect</td>\n",
       "      <td>Horror|Thriller</td>\n",
       "      <td>2015</td>\n",
       "      <td>3453</td>\n",
       "      <td>0.5</td>\n",
       "    </tr>\n",
       "    <tr>\n",
       "      <th>1048553</th>\n",
       "      <td>130052</td>\n",
       "      <td>Clown</td>\n",
       "      <td>Drama|Horror</td>\n",
       "      <td>2014</td>\n",
       "      <td>3858</td>\n",
       "      <td>1.0</td>\n",
       "    </tr>\n",
       "    <tr>\n",
       "      <th>1048554</th>\n",
       "      <td>130073</td>\n",
       "      <td>Cinderella</td>\n",
       "      <td>Adventure|Children|Drama|Sci-Fi</td>\n",
       "      <td>2015</td>\n",
       "      <td>4450</td>\n",
       "      <td>2.5</td>\n",
       "    </tr>\n",
       "    <tr>\n",
       "      <th>1048555</th>\n",
       "      <td>130219</td>\n",
       "      <td>The Dark Knight</td>\n",
       "      <td>Action|Crime|Drama|Thriller</td>\n",
       "      <td>2011</td>\n",
       "      <td>1339</td>\n",
       "      <td>4.5</td>\n",
       "    </tr>\n",
       "    <tr>\n",
       "      <th>1048556</th>\n",
       "      <td>130462</td>\n",
       "      <td>The Boy</td>\n",
       "      <td>Unknown Genre</td>\n",
       "      <td>2015</td>\n",
       "      <td>5731</td>\n",
       "      <td>4.0</td>\n",
       "    </tr>\n",
       "    <tr>\n",
       "      <th>1048557</th>\n",
       "      <td>130490</td>\n",
       "      <td>Insurgent</td>\n",
       "      <td>Action|Romance|Sci-Fi</td>\n",
       "      <td>2015</td>\n",
       "      <td>2423</td>\n",
       "      <td>1.0</td>\n",
       "    </tr>\n",
       "    <tr>\n",
       "      <th>1048558</th>\n",
       "      <td>130490</td>\n",
       "      <td>Insurgent</td>\n",
       "      <td>Action|Romance|Sci-Fi</td>\n",
       "      <td>2015</td>\n",
       "      <td>3397</td>\n",
       "      <td>3.5</td>\n",
       "    </tr>\n",
       "    <tr>\n",
       "      <th>1048559</th>\n",
       "      <td>130642</td>\n",
       "      <td>Backcountry</td>\n",
       "      <td>Drama|Horror|Thriller</td>\n",
       "      <td>2014</td>\n",
       "      <td>3858</td>\n",
       "      <td>3.0</td>\n",
       "    </tr>\n",
       "  </tbody>\n",
       "</table>\n",
       "</div>"
      ],
      "text/plain": [
       "         movieId                                   title  \\\n",
       "1048550   129428  The Second Best Exotic Marigold Hotel    \n",
       "1048551   129428  The Second Best Exotic Marigold Hotel    \n",
       "1048552   129707                     The Lazarus Effect    \n",
       "1048553   130052                                  Clown    \n",
       "1048554   130073                             Cinderella    \n",
       "1048555   130219                        The Dark Knight    \n",
       "1048556   130462                                The Boy    \n",
       "1048557   130490                              Insurgent    \n",
       "1048558   130490                              Insurgent    \n",
       "1048559   130642                            Backcountry    \n",
       "\n",
       "                                  genres  year  userId  rating  \n",
       "1048550                     Comedy|Drama  2015    3289     3.5  \n",
       "1048551                     Comedy|Drama  2015    5832     3.0  \n",
       "1048552                  Horror|Thriller  2015    3453     0.5  \n",
       "1048553                     Drama|Horror  2014    3858     1.0  \n",
       "1048554  Adventure|Children|Drama|Sci-Fi  2015    4450     2.5  \n",
       "1048555      Action|Crime|Drama|Thriller  2011    1339     4.5  \n",
       "1048556                    Unknown Genre  2015    5731     4.0  \n",
       "1048557            Action|Romance|Sci-Fi  2015    2423     1.0  \n",
       "1048558            Action|Romance|Sci-Fi  2015    3397     3.5  \n",
       "1048559            Drama|Horror|Thriller  2014    3858     3.0  "
      ]
     },
     "execution_count": 101,
     "metadata": {},
     "output_type": "execute_result"
    }
   ],
   "source": [
    "movie_ratings=movies.merge(ratings,on = 'movieId',how = 'inner')\n",
    "movie_ratings.tail(10)"
   ]
  },
  {
   "cell_type": "code",
   "execution_count": 112,
   "metadata": {},
   "outputs": [
    {
     "data": {
      "text/plain": [
       "title\n",
       "Pulp Fiction                                       3498\n",
       "Forrest Gump                                       3476\n",
       "Silence of the Lambs, The                          3247\n",
       "Shawshank Redemption, The                          3216\n",
       "Jurassic Park                                      3129\n",
       "Star Wars: Episode IV - A New Hope                 2874\n",
       "Braveheart                                         2799\n",
       "Terminator 2: Judgment Day                         2711\n",
       "Matrix, The                                        2705\n",
       "Schindler's List                                   2598\n",
       "Fugitive, The                                      2570\n",
       "Toy Story                                          2569\n",
       "Independence Day                                   2546\n",
       "Apollo 13                                          2512\n",
       "Usual Suspects, The                                2490\n",
       "Star Wars: Episode VI - Return of the Jedi         2480\n",
       "Batman                                             2440\n",
       "Star Wars: Episode V - The Empire Strikes Back     2418\n",
       "American Beauty                                    2355\n",
       "Twelve Monkeys                                     2312\n",
       "Raiders of the Lost Ark                            2289\n",
       "Dances with Wolves                                 2288\n",
       "Fargo                                              2287\n",
       "True Lies                                          2274\n",
       "Seven                                              2241\n",
       "dtype: int64"
      ]
     },
     "execution_count": 112,
     "metadata": {},
     "output_type": "execute_result"
    }
   ],
   "source": [
    "most_rated = movie_ratings.groupby('title').size().sort_values(ascending=False)[:25]\n",
    "most_rated.head(25)"
   ]
  },
  {
   "cell_type": "code",
   "execution_count": 102,
   "metadata": {},
   "outputs": [
    {
     "name": "stdout",
     "output_type": "stream",
     "text": [
      "['Adventure', 'Animation', 'Children', 'Comedy', 'Fantasy', 'Romance', 'Drama', 'Action', 'Crime', 'Thriller', 'Horror', 'Mystery', 'Sci-Fi', 'IMAX', 'Documentary', 'War', 'Musical', 'Western', 'Film-Noir', 'Unknown Genre']\n",
      "20\n"
     ]
    }
   ],
   "source": [
    "#Extracting unique genres from genre list\n",
    "genres=[]\n",
    "for x in movies['genres']:\n",
    "    temp=[]\n",
    "    temp=x.split('|')\n",
    "    for y in temp:\n",
    "        if(y not in genres):\n",
    "            genres.append(y)\n",
    "print(genres)  \n",
    "print(len(genres))"
   ]
  },
  {
   "cell_type": "code",
   "execution_count": 103,
   "metadata": {},
   "outputs": [],
   "source": [
    "movies = movies.replace(to_replace =\"(no genres listed)\", value =\"Unknown Genre\") "
   ]
  },
  {
   "cell_type": "code",
   "execution_count": 108,
   "metadata": {},
   "outputs": [
    {
     "data": {
      "text/html": [
       "<div>\n",
       "<style scoped>\n",
       "    .dataframe tbody tr th:only-of-type {\n",
       "        vertical-align: middle;\n",
       "    }\n",
       "\n",
       "    .dataframe tbody tr th {\n",
       "        vertical-align: top;\n",
       "    }\n",
       "\n",
       "    .dataframe thead th {\n",
       "        text-align: right;\n",
       "    }\n",
       "</style>\n",
       "<table border=\"1\" class=\"dataframe\">\n",
       "  <thead>\n",
       "    <tr style=\"text-align: right;\">\n",
       "      <th></th>\n",
       "      <th>movieId</th>\n",
       "      <th>title</th>\n",
       "      <th>genres</th>\n",
       "      <th>year</th>\n",
       "      <th>userId</th>\n",
       "      <th>rating</th>\n",
       "    </tr>\n",
       "  </thead>\n",
       "  <tbody>\n",
       "    <tr>\n",
       "      <th>1048550</th>\n",
       "      <td>129428</td>\n",
       "      <td>The Second Best Exotic Marigold Hotel</td>\n",
       "      <td>Comedy|Drama</td>\n",
       "      <td>2015</td>\n",
       "      <td>3289</td>\n",
       "      <td>3.5</td>\n",
       "    </tr>\n",
       "    <tr>\n",
       "      <th>1048551</th>\n",
       "      <td>129428</td>\n",
       "      <td>The Second Best Exotic Marigold Hotel</td>\n",
       "      <td>Comedy|Drama</td>\n",
       "      <td>2015</td>\n",
       "      <td>5832</td>\n",
       "      <td>3.0</td>\n",
       "    </tr>\n",
       "    <tr>\n",
       "      <th>1048552</th>\n",
       "      <td>129707</td>\n",
       "      <td>The Lazarus Effect</td>\n",
       "      <td>Horror|Thriller</td>\n",
       "      <td>2015</td>\n",
       "      <td>3453</td>\n",
       "      <td>0.5</td>\n",
       "    </tr>\n",
       "    <tr>\n",
       "      <th>1048553</th>\n",
       "      <td>130052</td>\n",
       "      <td>Clown</td>\n",
       "      <td>Drama|Horror</td>\n",
       "      <td>2014</td>\n",
       "      <td>3858</td>\n",
       "      <td>1.0</td>\n",
       "    </tr>\n",
       "    <tr>\n",
       "      <th>1048554</th>\n",
       "      <td>130073</td>\n",
       "      <td>Cinderella</td>\n",
       "      <td>Adventure|Children|Drama|Sci-Fi</td>\n",
       "      <td>2015</td>\n",
       "      <td>4450</td>\n",
       "      <td>2.5</td>\n",
       "    </tr>\n",
       "    <tr>\n",
       "      <th>1048555</th>\n",
       "      <td>130219</td>\n",
       "      <td>The Dark Knight</td>\n",
       "      <td>Action|Crime|Drama|Thriller</td>\n",
       "      <td>2011</td>\n",
       "      <td>1339</td>\n",
       "      <td>4.5</td>\n",
       "    </tr>\n",
       "    <tr>\n",
       "      <th>1048556</th>\n",
       "      <td>130462</td>\n",
       "      <td>The Boy</td>\n",
       "      <td>Unknown Genre</td>\n",
       "      <td>2015</td>\n",
       "      <td>5731</td>\n",
       "      <td>4.0</td>\n",
       "    </tr>\n",
       "    <tr>\n",
       "      <th>1048557</th>\n",
       "      <td>130490</td>\n",
       "      <td>Insurgent</td>\n",
       "      <td>Action|Romance|Sci-Fi</td>\n",
       "      <td>2015</td>\n",
       "      <td>2423</td>\n",
       "      <td>1.0</td>\n",
       "    </tr>\n",
       "    <tr>\n",
       "      <th>1048558</th>\n",
       "      <td>130490</td>\n",
       "      <td>Insurgent</td>\n",
       "      <td>Action|Romance|Sci-Fi</td>\n",
       "      <td>2015</td>\n",
       "      <td>3397</td>\n",
       "      <td>3.5</td>\n",
       "    </tr>\n",
       "    <tr>\n",
       "      <th>1048559</th>\n",
       "      <td>130642</td>\n",
       "      <td>Backcountry</td>\n",
       "      <td>Drama|Horror|Thriller</td>\n",
       "      <td>2014</td>\n",
       "      <td>3858</td>\n",
       "      <td>3.0</td>\n",
       "    </tr>\n",
       "  </tbody>\n",
       "</table>\n",
       "</div>"
      ],
      "text/plain": [
       "         movieId                                   title  \\\n",
       "1048550   129428  The Second Best Exotic Marigold Hotel    \n",
       "1048551   129428  The Second Best Exotic Marigold Hotel    \n",
       "1048552   129707                     The Lazarus Effect    \n",
       "1048553   130052                                  Clown    \n",
       "1048554   130073                             Cinderella    \n",
       "1048555   130219                        The Dark Knight    \n",
       "1048556   130462                                The Boy    \n",
       "1048557   130490                              Insurgent    \n",
       "1048558   130490                              Insurgent    \n",
       "1048559   130642                            Backcountry    \n",
       "\n",
       "                                  genres  year  userId  rating  \n",
       "1048550                     Comedy|Drama  2015    3289     3.5  \n",
       "1048551                     Comedy|Drama  2015    5832     3.0  \n",
       "1048552                  Horror|Thriller  2015    3453     0.5  \n",
       "1048553                     Drama|Horror  2014    3858     1.0  \n",
       "1048554  Adventure|Children|Drama|Sci-Fi  2015    4450     2.5  \n",
       "1048555      Action|Crime|Drama|Thriller  2011    1339     4.5  \n",
       "1048556                    Unknown Genre  2015    5731     4.0  \n",
       "1048557            Action|Romance|Sci-Fi  2015    2423     1.0  \n",
       "1048558            Action|Romance|Sci-Fi  2015    3397     3.5  \n",
       "1048559            Drama|Horror|Thriller  2014    3858     3.0  "
      ]
     },
     "execution_count": 108,
     "metadata": {},
     "output_type": "execute_result"
    }
   ],
   "source": [
    "movie_ratings.tail(10)"
   ]
  },
  {
   "cell_type": "markdown",
   "metadata": {},
   "source": [
    "#### Separating into genres"
   ]
  },
  {
   "cell_type": "code",
   "execution_count": 121,
   "metadata": {},
   "outputs": [],
   "source": [
    "action_movies = movies['genres'].str.contains('Action')\n",
    "adventure_movies = movies['genres'].str.contains('Adventure')\n",
    "animation_movies = movies['genres'].str.contains('Animation')\n",
    "children_movies = movies['genres'].str.contains('Children')\n",
    "comedy_movies = movies['genres'].str.contains('Comedy')\n",
    "crime_movies = movies['genres'].str.contains('Crime')\n",
    "documentary_movies = movies['genres'].str.contains('Documentary')\n",
    "drama_movies = movies['genres'].str.contains('Drama')\n",
    "fantasy_movies = movies['genres'].str.contains('Fantasy')\n",
    "film_noir_movies = movies['genres'].str.contains('Film-Noir')\n",
    "horror_movies = movies['genres'].str.contains('Horror')\n",
    "imax_movies = movies['genres'].str.contains('IMAX')\n",
    "mystery_movies = movies['genres'].str.contains('Mystery')\n",
    "musical_movies = movies['genres'].str.contains('Musical')\n",
    "romantic_movies = movies['genres'].str.contains('Romance')\n",
    "scifi_movies = movies['genres'].str.contains('Sci-Fi')\n",
    "thriller_movies = movies['genres'].str.contains('Thriller')\n",
    "unknown = movies['genres'].str.contains('Unknown Genre')\n",
    "war_movies = movies['genres'].str.contains('War')\n",
    "western_movies = movies['genres'].str.contains('Western')"
   ]
  },
  {
   "cell_type": "code",
   "execution_count": 122,
   "metadata": {},
   "outputs": [],
   "source": [
    "action_movies = movies[action_movies]\n",
    "adventure_movies = movies[adventure_movies]\n",
    "animation_movies = movies[animation_movies]\n",
    "children_movies = movies[children_movies]\n",
    "comedy_movies = movies[comedy_movies]\n",
    "crime_movies = movies[crime_movies]\n",
    "documentary_movies = movies[documentary_movies]\n",
    "drama_movies = movies[drama_movies]\n",
    "fantasy_movies = movies[fantasy_movies]\n",
    "film_noir_movies = movies[film_noir_movies]\n",
    "horror_movies = movies[horror_movies]\n",
    "imax_movies = movies[imax_movies]\n",
    "mystery_movies = movies[mystery_movies]\n",
    "musical_movies = movies[musical_movies]\n",
    "romantic_movies = movies[romantic_movies]\n",
    "scifi_movies = movies[scifi_movies]\n",
    "thriller_movies = movies[thriller_movies]\n",
    "war_movies = movies[war_movies]\n",
    "western_movies = movies[western_movies]\n",
    "unknown = movies[unknown]"
   ]
  },
  {
   "cell_type": "code",
   "execution_count": 153,
   "metadata": {},
   "outputs": [
    {
     "data": {
      "image/png": "[encoded data removed]",
      "text/plain": [
       "<Figure size 2520x1440 with 1 Axes>"
      ]
     },
     "metadata": {
      "needs_background": "light"
     },
     "output_type": "display_data"
    }
   ],
   "source": [
    "from matplotlib.pyplot import figure\n",
    "\n",
    "genre = [1, 2, 3, 4, 5, 6, 7, 8, 9, 10, 11, 12, 13, 14, 15, 16, 17, 18, 19, 20] \n",
    "  \n",
    "# heights of bars \n",
    "height = [len(action_movies.index), len(adventure_movies.index), len(animation_movies.index), len(children_movies.index), \n",
    "         len(comedy_movies.index), len(crime_movies.index), len(documentary_movies.index), len(drama_movies.index), \n",
    "         len(fantasy_movies.index), len(film_noir_movies.index), len(horror_movies.index), len(imax_movies.index), \n",
    "         len(mystery_movies.index), len(musical_movies.index), len(romantic_movies.index), len(scifi_movies.index), \n",
    "         len(thriller_movies.index), len(war_movies.index), len(western_movies.index), len(unknown.index)] \n",
    "  \n",
    "# labels for bars \n",
    "tick_label = ['Action', 'Adventure', 'Animation', 'Children', 'Comedy',\n",
    "             'Crime', 'Documentary', 'Drama', 'Fantasy', 'Film-Noir',\n",
    "             'Horror', 'IMAX', 'Mystery', 'Musical', 'Romance',\n",
    "             'Sci-Fi', 'Thriller', 'War', 'Western', 'Unknown Genre',] \n",
    "# plotting a bar chart \n",
    "plt.bar(genre, height, tick_label = tick_label, \n",
    "        width = 0.8, color = ['purple']) \n",
    "\n",
    "# naming the x-axis \n",
    "plt.xlabel('Movie Genre') \n",
    "# naming the y-axis \n",
    "plt.ylabel('No of movies') \n",
    "# plot title \n",
    "plt.title('Movie Distribution according to Genre') \n",
    "  \n",
    "plt.rcParams[\"figure.figsize\"] = [25,20]\n",
    "# function to show the plot \n",
    "plt.show()"
   ]
  },
  {
   "cell_type": "code",
   "execution_count": null,
   "metadata": {},
   "outputs": [],
   "source": []
  }
 ],
 "metadata": {
  "kernelspec": {
   "display_name": "Python 3",
   "language": "python",
   "name": "python3"
  },
  "language_info": {
   "codemirror_mode": {
    "name": "ipython",
    "version": 3
   },
   "file_extension": ".py",
   "mimetype": "text/x-python",
   "name": "python",
   "nbconvert_exporter": "python",
   "pygments_lexer": "ipython3",
   "version": "3.7.3"
  }
 },
 "nbformat": 4,
 "nbformat_minor": 2
}
